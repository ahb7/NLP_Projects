{
 "cells": [
  {
   "cell_type": "code",
   "execution_count": null,
   "metadata": {
    "id": "fK7bckjWRSkI"
   },
   "outputs": [],
   "source": [
    "\"\"\"\n",
    "This program does sentiment analysis of IMDB movie review dataset using LSTM\n",
    "It classifies a movie review as positive or negative\n",
    "Dataset : https://www.kaggle.com/lakshmi25npathi/imdb-dataset-of-50k-movie-reviews\n",
    "Reference: https://www.kaggle.com/code/arunmohan003/sentiment-analysis-using-lstm-pytorch/notebook\n",
    "Executed on Google Colab with GPU, with Python 3.7.12 and PyTorch 1.10.0 \n",
    "\"\"\""
   ]
  },
  {
   "cell_type": "code",
   "execution_count": 324,
   "metadata": {
    "executionInfo": {
     "elapsed": 18,
     "status": "ok",
     "timestamp": 1647879480013,
     "user": {
      "displayName": "Abdullah Habib Biswas",
      "photoUrl": "https://lh3.googleusercontent.com/a/default-user=s64",
      "userId": "05383448059742338245"
     },
     "user_tz": -330
    },
    "id": "OhDrQeFIRjU1"
   },
   "outputs": [],
   "source": [
    "import numpy as np \n",
    "import pandas as pd \n",
    "import torch\n",
    "import torch.nn as nn\n",
    "from nltk.corpus import stopwords \n",
    "from collections import Counter\n",
    "import re\n",
    "import matplotlib.pyplot as plt\n",
    "from torch.utils.data import TensorDataset, DataLoader\n",
    "from sklearn.model_selection import train_test_split\n",
    "import nltk\n",
    "from nltk.stem import WordNetLemmatizer"
   ]
  },
  {
   "cell_type": "code",
   "execution_count": 325,
   "metadata": {
    "executionInfo": {
     "elapsed": 915,
     "status": "ok",
     "timestamp": 1647879497306,
     "user": {
      "displayName": "Abdullah Habib Biswas",
      "photoUrl": "https://lh3.googleusercontent.com/a/default-user=s64",
      "userId": "05383448059742338245"
     },
     "user_tz": -330
    },
    "id": "jqKn6uKeRp41"
   },
   "outputs": [],
   "source": [
    "# Initialize variables \n",
    "device = torch.device(\"cuda\" if torch.cuda.is_available() else \"cpu\")\n",
    "batch_size = 64\n",
    "MAX_LEN = 1000\n",
    "learning_rate = 0.001"
   ]
  },
  {
   "cell_type": "code",
   "execution_count": 326,
   "metadata": {
    "colab": {
     "base_uri": "https://localhost:8080/"
    },
    "executionInfo": {
     "elapsed": 7274,
     "status": "ok",
     "timestamp": 1647879516466,
     "user": {
      "displayName": "Abdullah Habib Biswas",
      "photoUrl": "https://lh3.googleusercontent.com/a/default-user=s64",
      "userId": "05383448059742338245"
     },
     "user_tz": -330
    },
    "id": "PvqOpar9RuzO",
    "outputId": "ba10c382-b3fe-4851-9bd3-60785ff09b01"
   },
   "outputs": [
    {
     "name": "stdout",
     "output_type": "stream",
     "text": [
      "Drive already mounted at /content/gdrive; to attempt to forcibly remount, call drive.mount(\"/content/gdrive\", force_remount=True).\n",
      "shape of train data is (40000,)\n",
      "shape of test data is (5000,)\n",
      "shape of val data is (5000,)\n"
     ]
    }
   ],
   "source": [
    "# Mount Google Drive \n",
    "from google.colab import drive\n",
    "drive.mount('/content/gdrive')\n",
    "# Load dataset  \n",
    "data_dir = \"/content/gdrive/My Drive/Data/Imdb/archive\"\n",
    "df = pd.read_csv(data_dir+\"/IMDB Dataset.csv\")\n",
    "df.head() \n",
    "\n",
    "X,y = df['review'].values,df['sentiment'].values\n",
    "X_train, X_test, y_train, y_test = train_test_split(X, y, test_size=0.1, stratify=y)\n",
    "X_train, X_val, y_train, y_val = train_test_split(X_train, y_train, test_size=0.11111111, stratify=y_train)\n",
    "\n",
    "print(f'shape of train data is {X_train.shape}')\n",
    "print(f'shape of test data is {X_test.shape}')\n",
    "print(f'shape of val data is {X_val.shape}')"
   ]
  },
  {
   "cell_type": "code",
   "execution_count": 327,
   "metadata": {
    "executionInfo": {
     "elapsed": 12,
     "status": "ok",
     "timestamp": 1647879519425,
     "user": {
      "displayName": "Abdullah Habib Biswas",
      "photoUrl": "https://lh3.googleusercontent.com/a/default-user=s64",
      "userId": "05383448059742338245"
     },
     "user_tz": -330
    },
    "id": "2He8TuQoSJy8"
   },
   "outputs": [],
   "source": [
    "# Pre-process sentences function\n",
    "def preprocess_string(s):\n",
    "    # Remove all non-word characters (everything except numbers and letters)\n",
    "    s = re.sub(r\"[^\\w\\s]\", '', s)\n",
    "    # Replace all runs of whitespaces with single space\n",
    "    s = re.sub(r\"\\s+\", ' ', s)\n",
    "    # replace digits with no space\n",
    "    s = re.sub(r\"\\d\", '', s)\n",
    "    # Convert to lower case\n",
    "    s = s.lower()\n",
    "    return s"
   ]
  },
  {
   "cell_type": "code",
   "execution_count": 328,
   "metadata": {
    "executionInfo": {
     "elapsed": 839,
     "status": "ok",
     "timestamp": 1647879523119,
     "user": {
      "displayName": "Abdullah Habib Biswas",
      "photoUrl": "https://lh3.googleusercontent.com/a/default-user=s64",
      "userId": "05383448059742338245"
     },
     "user_tz": -330
    },
    "id": "o4sdcXJKSOul"
   },
   "outputs": [],
   "source": [
    "# Define the object for Lemmatization\n",
    "wordnet_lemmatizer = WordNetLemmatizer()\n",
    "# Define lemmatization function  \n",
    "def lemmatizer(text):\n",
    "    lemm_text = [wordnet_lemmatizer.lemmatize(word) for word in text]\n",
    "    return lemm_text"
   ]
  },
  {
   "cell_type": "code",
   "execution_count": 329,
   "metadata": {
    "colab": {
     "base_uri": "https://localhost:8080/"
    },
    "executionInfo": {
     "elapsed": 1067,
     "status": "ok",
     "timestamp": 1647879527125,
     "user": {
      "displayName": "Abdullah Habib Biswas",
      "photoUrl": "https://lh3.googleusercontent.com/a/default-user=s64",
      "userId": "05383448059742338245"
     },
     "user_tz": -330
    },
    "id": "CB5ZR04pSwo_",
    "outputId": "6961cc3f-f5e7-4667-e1dd-1ce6b29cf70d"
   },
   "outputs": [
    {
     "name": "stdout",
     "output_type": "stream",
     "text": [
      "[nltk_data] Downloading package stopwords to /root/nltk_data...\n",
      "[nltk_data]   Package stopwords is already up-to-date!\n",
      "[nltk_data] Downloading package wordnet to /root/nltk_data...\n",
      "[nltk_data]   Package wordnet is already up-to-date!\n"
     ]
    },
    {
     "data": {
      "text/plain": [
       "True"
      ]
     },
     "execution_count": 329,
     "metadata": {},
     "output_type": "execute_result"
    }
   ],
   "source": [
    "# Download stopwords and wordnet\n",
    "nltk.download('stopwords')\n",
    "nltk.download('wordnet')"
   ]
  },
  {
   "cell_type": "code",
   "execution_count": 330,
   "metadata": {
    "executionInfo": {
     "elapsed": 1016,
     "status": "ok",
     "timestamp": 1647879534639,
     "user": {
      "displayName": "Abdullah Habib Biswas",
      "photoUrl": "https://lh3.googleusercontent.com/a/default-user=s64",
      "userId": "05383448059742338245"
     },
     "user_tz": -330
    },
    "id": "qyR_tlPhSy8d"
   },
   "outputs": [],
   "source": [
    "# Function for stopwords removal, tokenization, and lemmatization\n",
    "def tokenize_lemmatize(x_train, y_train, x_val, y_val, x_test, y_test):\n",
    "    word_list = []\n",
    "\n",
    "    stop_words = set(stopwords.words('english')) \n",
    "    for sent in x_train:\n",
    "        for word in sent.lower().split():\n",
    "            word = preprocess_string(word)\n",
    "            if word not in stop_words and word != '':\n",
    "                word_list.append(word)\n",
    "  \n",
    "    corpus = Counter(word_list)\n",
    "    # Sorting on the basis of most common words\n",
    "    corpus_ = sorted(corpus, key=corpus.get, reverse=True)[:10000]\n",
    "    # Creating a dict\n",
    "    onehot_dict = {w:i+1 for i,w in enumerate(corpus_)}\n",
    "\n",
    "    # Tokenize\n",
    "    final_list_train, final_list_val, final_list_test = [], [], []\n",
    "    for sent in x_train:\n",
    "        # Tokenize\n",
    "        token_list = sent.lower().split()\n",
    "        # Lemmatize\n",
    "        lemma_list = lemmatizer(token_list)\n",
    "        final_list_train.append([onehot_dict[preprocess_string(word)] for word in lemma_list \n",
    "                                     if preprocess_string(word) in onehot_dict.keys()])\n",
    "    for sent in x_val:\n",
    "        # Tokenize\n",
    "        token_list = sent.lower().split()\n",
    "        # Lemmatize\n",
    "        lemma_list = lemmatizer(token_list)\n",
    "        final_list_val.append([onehot_dict[preprocess_string(word)] for word in lemma_list \n",
    "                                    if preprocess_string(word) in onehot_dict.keys()])\n",
    "    for sent in x_test:\n",
    "        # Tokenize\n",
    "        token_list = sent.lower().split()\n",
    "        # Lemmatize\n",
    "        lemma_list = lemmatizer(token_list)\n",
    "        final_list_test.append([onehot_dict[preprocess_string(word)] for word in lemma_list \n",
    "                                    if preprocess_string(word) in onehot_dict.keys()])\n",
    "            \n",
    "    encoded_train = [1 if label =='positive' else 0 for label in y_train]  \n",
    "    encoded_val = [1 if label =='positive' else 0 for label in y_val] \n",
    "    encoded_test = [1 if label =='positive' else 0 for label in y_test] \n",
    "    \n",
    "    x_train = np.array(final_list_train, dtype=object) \n",
    "    y_train = np.array(encoded_train)\n",
    "    x_val = np.array(final_list_val, dtype=object)\n",
    "    y_val = np.array(encoded_val)\n",
    "    x_test = np.array(final_list_test, dtype=object) \n",
    "    y_test = np.array(encoded_test)\n",
    "    \n",
    "    return x_train, y_train, x_val, y_val, x_test, y_test, onehot_dict\n"
   ]
  },
  {
   "cell_type": "code",
   "execution_count": 331,
   "metadata": {
    "executionInfo": {
     "elapsed": 128159,
     "status": "ok",
     "timestamp": 1647879670304,
     "user": {
      "displayName": "Abdullah Habib Biswas",
      "photoUrl": "https://lh3.googleusercontent.com/a/default-user=s64",
      "userId": "05383448059742338245"
     },
     "user_tz": -330
    },
    "id": "tYYaoeM8TB09"
   },
   "outputs": [],
   "source": [
    "# Call tokenize_lemmatize function\n",
    "X_train, y_train, X_val, y_val, X_test, y_test, vocab = tokenize_lemmatize(X_train, y_train, X_val, y_val, X_test, y_test)\n"
   ]
  },
  {
   "cell_type": "code",
   "execution_count": 332,
   "metadata": {
    "executionInfo": {
     "elapsed": 1633,
     "status": "ok",
     "timestamp": 1647879725512,
     "user": {
      "displayName": "Abdullah Habib Biswas",
      "photoUrl": "https://lh3.googleusercontent.com/a/default-user=s64",
      "userId": "05383448059742338245"
     },
     "user_tz": -330
    },
    "id": "vuwo0FWfTuf9"
   },
   "outputs": [],
   "source": [
    "# Pad the sentences upto Max Length\n",
    "def padding_(sentences, max_len):\n",
    "    features = np.zeros((len(sentences), max_len),dtype=int)\n",
    "    for ii, review in enumerate(sentences):\n",
    "        if len(review) != 0:\n",
    "            features[ii, -len(review):] = np.array(review)[:max_len]\n",
    "    return features"
   ]
  },
  {
   "cell_type": "code",
   "execution_count": 333,
   "metadata": {
    "executionInfo": {
     "elapsed": 761,
     "status": "ok",
     "timestamp": 1647879732275,
     "user": {
      "displayName": "Abdullah Habib Biswas",
      "photoUrl": "https://lh3.googleusercontent.com/a/default-user=s64",
      "userId": "05383448059742338245"
     },
     "user_tz": -330
    },
    "id": "K51Ay_TCT8oE"
   },
   "outputs": [],
   "source": [
    "# We have very less number of reviews with length > 1000.\n",
    "# So we will consider only those below it.\n",
    "X_train_pad = padding_(X_train, MAX_LEN)\n",
    "X_val_pad = padding_(X_val, MAX_LEN)\n",
    "X_test_pad = padding_(X_test, MAX_LEN)\n",
    "\n",
    "# Create Tensor datasets\n",
    "train_data = TensorDataset(torch.from_numpy(X_train_pad), torch.from_numpy(y_train))\n",
    "valid_data = TensorDataset(torch.from_numpy(X_val_pad), torch.from_numpy(y_val))\n",
    "test_data = TensorDataset(torch.from_numpy(X_test_pad), torch.from_numpy(y_test))\n",
    "\n",
    "# Create dataloaders\n",
    "train_loader = DataLoader(train_data, shuffle=True, batch_size=batch_size, drop_last=True)\n",
    "valid_loader = DataLoader(valid_data, shuffle=True, batch_size=batch_size, drop_last=True)\n",
    "test_loader = DataLoader(test_data, shuffle=True, batch_size=batch_size, drop_last=True)\n"
   ]
  },
  {
   "cell_type": "code",
   "execution_count": 334,
   "metadata": {
    "executionInfo": {
     "elapsed": 639,
     "status": "ok",
     "timestamp": 1647879746921,
     "user": {
      "displayName": "Abdullah Habib Biswas",
      "photoUrl": "https://lh3.googleusercontent.com/a/default-user=s64",
      "userId": "05383448059742338245"
     },
     "user_tz": -330
    },
    "id": "yNi2qSjaT-68"
   },
   "outputs": [],
   "source": [
    "# Define LSTM model\n",
    "class SentimentLSTM(nn.Module):\n",
    "    def __init__(self, no_layers, vocab_size, hidden_dim, embedding_dim, drop_prob=0.5):\n",
    "        super(SentimentLSTM, self).__init__()\n",
    " \n",
    "        self.hidden_dim = hidden_dim\n",
    "        self.no_layers = no_layers\n",
    "        self.vocab_size = vocab_size\n",
    "    \n",
    "        # Embedding and LSTM layers\n",
    "        self.embedding = nn.Embedding(vocab_size, embedding_dim)\n",
    "        # LSTM\n",
    "        self.lstm = nn.LSTM(input_size=embedding_dim,hidden_size=self.hidden_dim,\n",
    "                           num_layers=no_layers, batch_first=True)\n",
    "        # Dropout layer\n",
    "        self.dropout = nn.Dropout(drop_prob)\n",
    "        # linear and sigmoid layer\n",
    "        self.fc = nn.Linear(self.hidden_dim, 1)\n",
    "        self.sig = nn.Sigmoid()\n",
    "        \n",
    "    def forward(self, x, hidden):\n",
    "        batch_size = x.size(0)\n",
    "        # Embeddings and lstm_out\n",
    "        embeds = self.embedding(x)  \n",
    "        lstm_out, hidden = self.lstm(embeds, hidden)\n",
    "        \n",
    "        lstm_out = lstm_out.contiguous().view(-1, self.hidden_dim) \n",
    "        \n",
    "        # Dropout and fully connected layer\n",
    "        out = self.dropout(lstm_out)\n",
    "        out = self.fc(out)\n",
    "        \n",
    "        # Sigmoid function\n",
    "        sig_out = self.sig(out)\n",
    "        \n",
    "        # Reshape to be batch_size first\n",
    "        sig_out = sig_out.view(batch_size, -1)\n",
    "\n",
    "        sig_out = sig_out[:, -1] # Get last batch of labels\n",
    "        \n",
    "        # Return last sigmoid output and hidden state\n",
    "        return sig_out, hidden\n",
    "             \n",
    "    # Initialize hidden state     \n",
    "    def init_hidden(self, batch_size):\n",
    "        # Create two new tensors with sizes n_layers x batch_size x hidden_dim,\n",
    "        # initialized to zero, for hidden state and cell state of LSTM\n",
    "        h0 = torch.zeros((self.no_layers,batch_size,self.hidden_dim)).to(device)\n",
    "        c0 = torch.zeros((self.no_layers,batch_size,self.hidden_dim)).to(device)\n",
    "        hidden = (h0,c0)\n",
    "        return hidden\n",
    "    "
   ]
  },
  {
   "cell_type": "code",
   "execution_count": 335,
   "metadata": {
    "executionInfo": {
     "elapsed": 709,
     "status": "ok",
     "timestamp": 1647879814777,
     "user": {
      "displayName": "Abdullah Habib Biswas",
      "photoUrl": "https://lh3.googleusercontent.com/a/default-user=s64",
      "userId": "05383448059742338245"
     },
     "user_tz": -330
    },
    "id": "XIajkGBoUFuP"
   },
   "outputs": [],
   "source": [
    "no_layers = 2\n",
    "vocab_size = len(vocab) + 1 # Extra 1 for padding\n",
    "embedding_dim = 256\n",
    "hidden_dim = 256\n",
    "drop_prob = 0.5\n",
    "# Create LSTM model\n",
    "model = SentimentLSTM(no_layers, vocab_size, hidden_dim, embedding_dim, drop_prob)\n"
   ]
  },
  {
   "cell_type": "code",
   "execution_count": 336,
   "metadata": {
    "colab": {
     "base_uri": "https://localhost:8080/"
    },
    "executionInfo": {
     "elapsed": 1181,
     "status": "ok",
     "timestamp": 1647879818989,
     "user": {
      "displayName": "Abdullah Habib Biswas",
      "photoUrl": "https://lh3.googleusercontent.com/a/default-user=s64",
      "userId": "05383448059742338245"
     },
     "user_tz": -330
    },
    "id": "VnFTZaTLUNpF",
    "outputId": "dcd5aba9-ea43-483f-94b6-80605d564c89"
   },
   "outputs": [
    {
     "name": "stdout",
     "output_type": "stream",
     "text": [
      "SentimentLSTM(\n",
      "  (embedding): Embedding(10001, 256)\n",
      "  (lstm): LSTM(256, 256, num_layers=2, batch_first=True)\n",
      "  (dropout): Dropout(p=0.5, inplace=False)\n",
      "  (fc): Linear(in_features=256, out_features=1, bias=True)\n",
      "  (sig): Sigmoid()\n",
      ")\n"
     ]
    }
   ],
   "source": [
    "# Moving to gpu if available\n",
    "model.to(device)\n",
    "print(model)"
   ]
  },
  {
   "cell_type": "code",
   "execution_count": 337,
   "metadata": {
    "executionInfo": {
     "elapsed": 1279,
     "status": "ok",
     "timestamp": 1647879824043,
     "user": {
      "displayName": "Abdullah Habib Biswas",
      "photoUrl": "https://lh3.googleusercontent.com/a/default-user=s64",
      "userId": "05383448059742338245"
     },
     "user_tz": -330
    },
    "id": "86p2TSTsUX7M"
   },
   "outputs": [],
   "source": [
    "# Loss function and optimizer\n",
    "criterion = nn.BCELoss()\n",
    "optimizer = torch.optim.Adam(model.parameters(), lr=learning_rate)\n"
   ]
  },
  {
   "cell_type": "code",
   "execution_count": 338,
   "metadata": {
    "executionInfo": {
     "elapsed": 550,
     "status": "ok",
     "timestamp": 1647879829545,
     "user": {
      "displayName": "Abdullah Habib Biswas",
      "photoUrl": "https://lh3.googleusercontent.com/a/default-user=s64",
      "userId": "05383448059742338245"
     },
     "user_tz": -330
    },
    "id": "FFan5gjsUeAd"
   },
   "outputs": [],
   "source": [
    "# Function to calculate accuracy\n",
    "def acc(pred, label):\n",
    "    pred = torch.round(pred.squeeze())\n",
    "    return torch.sum(pred == label.squeeze()).item()\n"
   ]
  },
  {
   "cell_type": "code",
   "execution_count": 339,
   "metadata": {
    "colab": {
     "base_uri": "https://localhost:8080/"
    },
    "executionInfo": {
     "elapsed": 549485,
     "status": "ok",
     "timestamp": 1647880383200,
     "user": {
      "displayName": "Abdullah Habib Biswas",
      "photoUrl": "https://lh3.googleusercontent.com/a/default-user=s64",
      "userId": "05383448059742338245"
     },
     "user_tz": -330
    },
    "id": "3yCRJhMJUqk2",
    "outputId": "caed864e-a846-4eb6-de9f-ff278f606a2d"
   },
   "outputs": [
    {
     "name": "stdout",
     "output_type": "stream",
     "text": [
      "Epoch 1\n",
      "train_loss : 0.47940100588798523 val_loss : 0.3745753661944316\n",
      "train_accuracy : 77.545 val_accuracy : 83.1\n",
      "==================================================\n",
      "Epoch 2\n",
      "train_loss : 0.3369128125667572 val_loss : 0.3367952941319881\n",
      "train_accuracy : 86.36749999999999 val_accuracy : 85.58\n",
      "==================================================\n",
      "Epoch 3\n",
      "train_loss : 0.2586770431160927 val_loss : 0.3277714015581669\n",
      "train_accuracy : 89.8175 val_accuracy : 86.66\n",
      "==================================================\n",
      "Epoch 4\n",
      "train_loss : 0.20636775119304657 val_loss : 0.31748669766462767\n",
      "train_accuracy : 92.35 val_accuracy : 87.44\n",
      "==================================================\n",
      "Epoch 5\n",
      "train_loss : 0.15610490552186965 val_loss : 0.33468245695798826\n",
      "train_accuracy : 94.235 val_accuracy : 87.68\n",
      "==================================================\n",
      "Saving model...\n"
     ]
    }
   ],
   "source": [
    "clip = 5\n",
    "epochs = 5 \n",
    "epoch_tr_loss,epoch_vl_loss = [],[]\n",
    "epoch_tr_acc,epoch_vl_acc = [],[]\n",
    "\n",
    "# Start training\n",
    "for epoch in range(epochs):\n",
    "    # Training\n",
    "    train_losses = []\n",
    "    train_acc = 0.0\n",
    "    model.train()\n",
    "    # Initialize hidden state \n",
    "    h = model.init_hidden(batch_size)\n",
    "    for inputs, labels in train_loader:\n",
    "        inputs, labels = inputs.to(device), labels.to(device)   \n",
    "        # Creating new variables for the hidden state, otherwise\n",
    "        # we'd backprop through the entire training history\n",
    "        h = tuple([each.data for each in h])\n",
    "        \n",
    "        model.zero_grad()\n",
    "        output, h = model(inputs, h)\n",
    "        \n",
    "        # calculate the loss and perform backprop\n",
    "        loss = criterion(output.squeeze(), labels.float())\n",
    "        loss.backward()\n",
    "        train_losses.append(loss.item())\n",
    "        # Calculating accuracy\n",
    "        accuracy = acc(output,labels)\n",
    "        train_acc += accuracy\n",
    "        # `clip_grad_norm` helps prevent the exploding gradient problem in RNNs/LSTMs.\n",
    "        nn.utils.clip_grad_norm_(model.parameters(), clip)\n",
    "        optimizer.step()\n",
    " \n",
    "    # Validation     \n",
    "    val_h = model.init_hidden(batch_size)\n",
    "    val_losses = []\n",
    "    val_acc = 0.0\n",
    "    model.eval()\n",
    "    for inputs, labels in valid_loader:\n",
    "            val_h = tuple([each.data for each in val_h])\n",
    "            inputs, labels = inputs.to(device), labels.to(device)\n",
    "            output, val_h = model(inputs, val_h)\n",
    "            val_loss = criterion(output.squeeze(), labels.float())\n",
    "            val_losses.append(val_loss.item())\n",
    "            accuracy = acc(output,labels)\n",
    "            val_acc += accuracy\n",
    "            \n",
    "    epoch_train_loss = np.mean(train_losses)\n",
    "    epoch_val_loss = np.mean(val_losses)\n",
    "    epoch_train_acc = train_acc/len(train_loader.dataset)\n",
    "    epoch_val_acc = val_acc/len(valid_loader.dataset)\n",
    "    epoch_tr_loss.append(epoch_train_loss)\n",
    "    epoch_vl_loss.append(epoch_val_loss)\n",
    "    epoch_tr_acc.append(epoch_train_acc)\n",
    "    epoch_vl_acc.append(epoch_val_acc)\n",
    "    print(f'Epoch {epoch+1}') \n",
    "    print(f'train_loss : {epoch_train_loss} val_loss : {epoch_val_loss}')\n",
    "    print(f'train_accuracy : {epoch_train_acc*100} val_accuracy : {epoch_val_acc*100}') \n",
    "    print(25*'==')\n",
    " \n",
    "print('Saving model...')\n",
    "torch.save(model.state_dict(), 'state_dict.pt')    \n"
   ]
  },
  {
   "cell_type": "code",
   "execution_count": 340,
   "metadata": {
    "colab": {
     "base_uri": "https://localhost:8080/",
     "height": 390
    },
    "executionInfo": {
     "elapsed": 1039,
     "status": "ok",
     "timestamp": 1647880434484,
     "user": {
      "displayName": "Abdullah Habib Biswas",
      "photoUrl": "https://lh3.googleusercontent.com/a/default-user=s64",
      "userId": "05383448059742338245"
     },
     "user_tz": -330
    },
    "id": "Bk-4sODwUr6G",
    "outputId": "a67e7449-e44b-4b9d-e391-6525f282a28b"
   },
   "outputs": [
    {
     "data": {
      "image/png": "[encoded data removed]",
      "text/plain": [
       "<Figure size 1440x432 with 2 Axes>"
      ]
     },
     "metadata": {
      "needs_background": "light"
     },
     "output_type": "display_data"
    }
   ],
   "source": [
    "# Plot Loss and Accuracy curves\n",
    "fig = plt.figure(figsize = (20, 6))\n",
    "plt.subplot(1, 2, 1)\n",
    "plt.plot(epoch_tr_acc, label='Train Acc')\n",
    "plt.plot(epoch_vl_acc, label='Validation Acc')\n",
    "plt.title(\"The Accuracy Curve\")\n",
    "plt.legend()\n",
    "plt.grid()\n",
    "    \n",
    "plt.subplot(1, 2, 2)\n",
    "plt.plot(epoch_tr_loss, label='Train loss')\n",
    "plt.plot(epoch_vl_loss, label='Validation loss')\n",
    "plt.title(\"The Loss Curve\")\n",
    "plt.legend()\n",
    "plt.grid()\n",
    "\n",
    "plt.show()"
   ]
  },
  {
   "cell_type": "code",
   "execution_count": 341,
   "metadata": {
    "colab": {
     "base_uri": "https://localhost:8080/"
    },
    "executionInfo": {
     "elapsed": 5156,
     "status": "ok",
     "timestamp": 1647880444813,
     "user": {
      "displayName": "Abdullah Habib Biswas",
      "photoUrl": "https://lh3.googleusercontent.com/a/default-user=s64",
      "userId": "05383448059742338245"
     },
     "user_tz": -330
    },
    "id": "U28cpdFrUvLv",
    "outputId": "3ee989cb-9745-4f3e-a338-a21dfaa527ac"
   },
   "outputs": [
    {
     "name": "stdout",
     "output_type": "stream",
     "text": [
      "\n",
      "Final prediction on the Test dataset => Accuracy : 88.24\n"
     ]
    }
   ],
   "source": [
    "# Finally predict on the Test dataset\n",
    "test_h = model.init_hidden(batch_size)\n",
    "test_losses = []\n",
    "test_acc = 0.0\n",
    "\n",
    "for inputs, labels in test_loader:\n",
    "    test_h = tuple([each.data for each in test_h])\n",
    "    inputs, labels = inputs.to(device), labels.to(device)\n",
    "    output, test_h = model(inputs, test_h)\n",
    "    test_loss = criterion(output.squeeze(), labels.float())\n",
    "    test_losses.append(test_loss.item()) \n",
    "    accuracy = acc(output,labels)\n",
    "    test_acc += accuracy\n",
    "    \n",
    "final_test_loss = np.mean(test_losses)\n",
    "final_test_acc = test_acc/len(test_loader.dataset)\n",
    "print(f'\\nFinal prediction on the Test dataset => Accuracy : {final_test_acc*100}')\n"
   ]
  }
 ],
 "metadata": {
  "accelerator": "GPU",
  "colab": {
   "authorship_tag": "ABX9TyN+eOCe65sK50LVh/xUkIER",
   "collapsed_sections": [],
   "name": "SentimentAnalysis_LSTM3.ipynb",
   "provenance": []
  },
  "kernelspec": {
   "display_name": "Python 3",
   "language": "python",
   "name": "python3"
  },
  "language_info": {
   "codemirror_mode": {
    "name": "ipython",
    "version": 3
   },
   "file_extension": ".py",
   "mimetype": "text/x-python",
   "name": "python",
   "nbconvert_exporter": "python",
   "pygments_lexer": "ipython3",
   "version": "3.8.5"
  }
 },
 "nbformat": 4,
 "nbformat_minor": 1
}
